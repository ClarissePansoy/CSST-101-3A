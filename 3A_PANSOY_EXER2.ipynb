{
  "nbformat": 4,
  "nbformat_minor": 0,
  "metadata": {
    "colab": {
      "provenance": []
    },
    "kernelspec": {
      "name": "python3",
      "display_name": "Python 3"
    },
    "language_info": {
      "name": "python"
    }
  },
  "cells": [
    {
      "cell_type": "markdown",
      "source": [
        "# 1. Introduction to Probability Theory in AI"
      ],
      "metadata": {
        "id": "ainofYF1xrZN"
      }
    },
    {
      "cell_type": "code",
      "source": [
        "def joint_probability(p_A, p_B):\n",
        "    return p_A* p_B\n",
        "\n",
        "def marginal_probability(p_A, p_B):\n",
        "    return p_A + p_B\n",
        "\n",
        "def conditional_probability(p_A_given_B, p_B):\n",
        "    return p_A_given_B\n",
        "\n",
        "    p_A = 0.3\n",
        "    p_B = 0.5\n",
        "    p_A_given_B = 0.8\n",
        "\n",
        "    print(f\"Joint Probability: {joint_probability(p_A, p_B)}\")\n",
        "    print(f\"Marginal Probability: {marginal_probability(p_A, p_B)}\")\n",
        "    print(f\"Conditional Probability: {conditional_probability(p_A_given_B, p_B)}\")"
      ],
      "metadata": {
        "id": "5v0Q6Cs1xwC9"
      },
      "execution_count": 2,
      "outputs": []
    },
    {
      "cell_type": "markdown",
      "source": [
        "# 2. Decision-Making Under Uncertainty"
      ],
      "metadata": {
        "id": "_6TBLp9Zy7yF"
      }
    },
    {
      "cell_type": "code",
      "source": [
        "import numpy as np\n",
        "\n",
        "def simulate_decision(num_simulate, p_success, reward_success, reward_failure):\n",
        "  outcomes =[]\n",
        "  for _ in range(num_simulate):\n",
        "    if np.random.rand() < p_success:\n",
        "      outcomes.append(reward_success)\n",
        "    else:\n",
        "      outcomes.append(reward_failure)\n",
        "  return np.means(outcomes)\n",
        "\n",
        "  p_success = 0.7\n",
        "  reward_success = 1000\n",
        "  reward_failure = -500\n",
        "\n",
        "  average_outcome = simulate_decision(1000, p_success, reward_success, reward_failure)\n",
        "  print(f\"Average Outcome: {average_outcome}\")\n",
        ""
      ],
      "metadata": {
        "id": "Yaeeii1Ry9eR"
      },
      "execution_count": 4,
      "outputs": []
    },
    {
      "cell_type": "markdown",
      "source": [
        "# 3. Applying Probability Theory in AI for Diagnosis"
      ],
      "metadata": {
        "id": "t-BCAEeh0Fzd"
      }
    },
    {
      "cell_type": "code",
      "source": [
        "def bayesian_inference(prior, likelihood_positive_given_disease,likelihood_positive ):\n",
        "    posterior = (likelihood_positive_given_disease * prior) / likelihood_positive\n",
        "    return posterior\n",
        "\n",
        "prior_disease = 0.01\n",
        "likelihood_positive_given_disease = 0.95\n",
        "likelihood_positive = 0.1\n",
        "\n",
        "posterior_disease = bayesian_inference(prior_disease, likelihood_positive_given_disease, likelihood_positive)\n",
        "print(f\"Posterior Probability of Disease: {posterior_disease}\")"
      ],
      "metadata": {
        "colab": {
          "base_uri": "https://localhost:8080/"
        },
        "id": "olXrtjLb0KHa",
        "outputId": "35e6bdf9-67d5-4ca1-8b7d-208b8213c72c"
      },
      "execution_count": 5,
      "outputs": [
        {
          "output_type": "stream",
          "name": "stdout",
          "text": [
            "Posterior Probability of Disease: 0.09499999999999999\n"
          ]
        }
      ]
    },
    {
      "cell_type": "markdown",
      "source": [
        "# 4. Probability Distribution in AI"
      ],
      "metadata": {
        "id": "p6giq6i60yWj"
      }
    },
    {
      "cell_type": "code",
      "source": [
        "import numpy as np\n",
        "import matplotlib.pyplot as plt\n",
        "\n",
        "n_trials = 1000\n",
        "n_head = 0.5\n",
        "biomial_distribution = np.random.binomial(n=1, p=n_head, size=n_trials)\n",
        "plt.hist('biomial_distribution (Coin Flips)')\n",
        "plt.show"
      ],
      "metadata": {
        "colab": {
          "base_uri": "https://localhost:8080/",
          "height": 599
        },
        "id": "S2dJuegX01Ik",
        "outputId": "fe59cdcb-836f-4836-821c-d351c3920e35"
      },
      "execution_count": 7,
      "outputs": [
        {
          "output_type": "execute_result",
          "data": {
            "text/plain": [
              "<function matplotlib.pyplot.show(close=None, block=None)>"
            ],
            "text/html": [
              "<div style=\"max-width:800px; border: 1px solid var(--colab-border-color);\"><style>\n",
              "      pre.function-repr-contents {\n",
              "        overflow-x: auto;\n",
              "        padding: 8px 12px;\n",
              "        max-height: 500px;\n",
              "      }\n",
              "\n",
              "      pre.function-repr-contents.function-repr-contents-collapsed {\n",
              "        cursor: pointer;\n",
              "        max-height: 100px;\n",
              "      }\n",
              "    </style>\n",
              "    <pre style=\"white-space: initial; background:\n",
              "         var(--colab-secondary-surface-color); padding: 8px 12px;\n",
              "         border-bottom: 1px solid var(--colab-border-color);\"><b>matplotlib.pyplot.show</b><br/>def show(*args, **kwargs)</pre><pre class=\"function-repr-contents function-repr-contents-collapsed\" style=\"\"><a class=\"filepath\" style=\"display:none\" href=\"#\">/usr/local/lib/python3.10/dist-packages/matplotlib/pyplot.py</a>Display all open figures.\n",
              "\n",
              "Parameters\n",
              "----------\n",
              "block : bool, optional\n",
              "    Whether to wait for all figures to be closed before returning.\n",
              "\n",
              "    If `True` block and run the GUI main loop until all figure windows\n",
              "    are closed.\n",
              "\n",
              "    If `False` ensure that all figure windows are displayed and return\n",
              "    immediately.  In this case, you are responsible for ensuring\n",
              "    that the event loop is running to have responsive figures.\n",
              "\n",
              "    Defaults to True in non-interactive mode and to False in interactive\n",
              "    mode (see `.pyplot.isinteractive`).\n",
              "\n",
              "See Also\n",
              "--------\n",
              "ion : Enable interactive mode, which shows / updates the figure after\n",
              "      every plotting command, so that calling ``show()`` is not necessary.\n",
              "ioff : Disable interactive mode.\n",
              "savefig : Save the figure to an image file instead of showing it on screen.\n",
              "\n",
              "Notes\n",
              "-----\n",
              "**Saving figures to file and showing a window at the same time**\n",
              "\n",
              "If you want an image file as well as a user interface window, use\n",
              "`.pyplot.savefig` before `.pyplot.show`. At the end of (a blocking)\n",
              "``show()`` the figure is closed and thus unregistered from pyplot. Calling\n",
              "`.pyplot.savefig` afterwards would save a new and thus empty figure. This\n",
              "limitation of command order does not apply if the show is non-blocking or\n",
              "if you keep a reference to the figure and use `.Figure.savefig`.\n",
              "\n",
              "**Auto-show in jupyter notebooks**\n",
              "\n",
              "The jupyter backends (activated via ``%matplotlib inline``,\n",
              "``%matplotlib notebook``, or ``%matplotlib widget``), call ``show()`` at\n",
              "the end of every cell by default. Thus, you usually don&#x27;t have to call it\n",
              "explicitly there.</pre>\n",
              "      <script>\n",
              "      if (google.colab.kernel.accessAllowed && google.colab.files && google.colab.files.view) {\n",
              "        for (const element of document.querySelectorAll('.filepath')) {\n",
              "          element.style.display = 'block'\n",
              "          element.onclick = (event) => {\n",
              "            event.preventDefault();\n",
              "            event.stopPropagation();\n",
              "            google.colab.files.view(element.textContent, 401);\n",
              "          };\n",
              "        }\n",
              "      }\n",
              "      for (const element of document.querySelectorAll('.function-repr-contents')) {\n",
              "        element.onclick = (event) => {\n",
              "          event.preventDefault();\n",
              "          event.stopPropagation();\n",
              "          element.classList.toggle('function-repr-contents-collapsed');\n",
              "        };\n",
              "      }\n",
              "      </script>\n",
              "      </div>"
            ]
          },
          "metadata": {},
          "execution_count": 7
        },
        {
          "output_type": "display_data",
          "data": {
            "text/plain": [
              "<Figure size 640x480 with 1 Axes>"
            ],
            "image/png": "[encoded data removed]"
          },
          "metadata": {}
        }
      ]
    },
    {
      "cell_type": "markdown",
      "source": [
        "# 5. Real-World Application of Probability in AI"
      ],
      "metadata": {
        "id": "1NboEtYS1sAh"
      }
    },
    {
      "cell_type": "code",
      "source": [
        "p_purchase_given_cart = 0.4\n",
        "p_cart = 0.3\n",
        "\n",
        "p_purchase = conditional_probability(p_purchase_given_cart, p_cart)\n",
        "\n",
        "print(p_purchase)"
      ],
      "metadata": {
        "colab": {
          "base_uri": "https://localhost:8080/"
        },
        "id": "50EDNdoB1vfG",
        "outputId": "520d128d-7387-4621-e389-ae2a284bb6b3"
      },
      "execution_count": 8,
      "outputs": [
        {
          "output_type": "stream",
          "name": "stdout",
          "text": [
            "0.4\n"
          ]
        }
      ]
    }
  ]
}