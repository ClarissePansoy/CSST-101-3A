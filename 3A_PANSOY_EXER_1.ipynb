{
  "nbformat": 4,
  "nbformat_minor": 0,
  "metadata": {
    "colab": {
      "provenance": []
    },
    "kernelspec": {
      "name": "python3",
      "display_name": "Python 3"
    },
    "language_info": {
      "name": "python"
    }
  },
  "cells": [
    {
      "cell_type": "markdown",
      "source": [
        "# Exercise 1: Propositional Logic in Python"
      ],
      "metadata": {
        "id": "PEnWnwlOji1P"
      }
    },
    {
      "cell_type": "code",
      "source": [
        "# Defining the conditions\n",
        "def check_conditions(is_raining):\n",
        "    ground_wet = False\n",
        "    match_lights = True\n",
        "\n",
        "    # If it rains, the ground will be wet\n",
        "    if is_raining:\n",
        "        ground_wet = True\n",
        "\n",
        "    # If the ground is wet, the match will not light\n",
        "    if ground_wet:\n",
        "        match_lights = False\n",
        "\n",
        "    return match_lights\n",
        "\n",
        "# Test the condition\n",
        "is_raining = True  # It is raining\n",
        "if not check_conditions(is_raining):\n",
        "    print(\"The match will not light.\")\n",
        "else:\n",
        "    print(\"The match will light.\")"
      ],
      "metadata": {
        "colab": {
          "base_uri": "https://localhost:8080/"
        },
        "id": "W_fiV63mjjCM",
        "outputId": "7d7ede04-43a5-4016-c01e-9601336d02a1"
      },
      "execution_count": 1,
      "outputs": [
        {
          "output_type": "stream",
          "name": "stdout",
          "text": [
            "The match will not light.\n"
          ]
        }
      ]
    },
    {
      "cell_type": "markdown",
      "source": [
        "# Exercise 2: Predicate Logic Representation"
      ],
      "metadata": {
        "id": "59nTJ_ybkyex"
      }
    },
    {
      "cell_type": "code",
      "source": [
        "# Define the predicates\n",
        "def isHuman(person):\n",
        "    return person == \"Socrates\"\n",
        "\n",
        "def isMortal(person):\n",
        "    return isHuman(person)\n",
        "\n",
        "# Test the logic\n",
        "person = \"Socrates\"\n",
        "if isMortal(person):\n",
        "    print(f\"{person} is mortal.\")\n",
        "else:\n",
        "    print(f\"{person} is not mortal.\")"
      ],
      "metadata": {
        "colab": {
          "base_uri": "https://localhost:8080/"
        },
        "id": "3omHkzJlk12J",
        "outputId": "bfd2cf36-8feb-4987-d374-ee5ffc10ffcc"
      },
      "execution_count": 2,
      "outputs": [
        {
          "output_type": "stream",
          "name": "stdout",
          "text": [
            "Socrates is mortal.\n"
          ]
        }
      ]
    },
    {
      "cell_type": "markdown",
      "source": [
        "# Exercise 3: Inference Techniques in Logic-Based Systems"
      ],
      "metadata": {
        "id": "YrELyIUxk5lc"
      }
    },
    {
      "cell_type": "code",
      "source": [
        "# Define rules and facts\n",
        "rules = [(\"X\", \"Y\")]  # If X is true, then Y is true\n",
        "facts = [\"X\"]         # X is true\n",
        "\n",
        "def modus_ponens(rules, facts):\n",
        "    conclusions = []\n",
        "    for fact in facts:\n",
        "        for rule in rules:\n",
        "            if fact == rule[0]:  # If X is true, deduce Y\n",
        "                conclusions.append(rule[1])\n",
        "    return conclusions\n",
        "\n",
        "# Apply Modus Ponens\n",
        "conclusions = modus_ponens(rules, facts)\n",
        "print(f\"Derived conclusions: {conclusions}\")"
      ],
      "metadata": {
        "colab": {
          "base_uri": "https://localhost:8080/"
        },
        "id": "OUYnhqialGQv",
        "outputId": "8234c707-e646-4000-f815-da93b50534fc"
      },
      "execution_count": 3,
      "outputs": [
        {
          "output_type": "stream",
          "name": "stdout",
          "text": [
            "Derived conclusions: ['Y']\n"
          ]
        }
      ]
    },
    {
      "cell_type": "markdown",
      "source": [
        "# Exercise 4: Hands-on Lab - Implementing a Logic-Based Model in Python"
      ],
      "metadata": {
        "id": "X-ZzhDqElHzF"
      }
    },
    {
      "cell_type": "code",
      "source": [
        "# Define the person's state\n",
        "def will_eat(is_hungry):\n",
        "    ate = False\n",
        "    if is_hungry:\n",
        "        ate = True\n",
        "    return ate\n",
        "\n",
        "def is_no_longer_hungry(ate):\n",
        "    return not ate\n",
        "\n",
        "# Test the logic\n",
        "john_is_hungry = True\n",
        "john_ate = will_eat(john_is_hungry)\n",
        "if is_no_longer_hungry(john_ate):\n",
        "    print(\"John is no longer hungry.\")\n",
        "else:\n",
        "    print(\"John is still hungry.\")"
      ],
      "metadata": {
        "colab": {
          "base_uri": "https://localhost:8080/"
        },
        "id": "k48-tuq-lLDw",
        "outputId": "acf600cd-7bde-495f-9599-9f5e77a911d3"
      },
      "execution_count": 5,
      "outputs": [
        {
          "output_type": "stream",
          "name": "stdout",
          "text": [
            "John is still hungry.\n"
          ]
        }
      ]
    }
  ]
}