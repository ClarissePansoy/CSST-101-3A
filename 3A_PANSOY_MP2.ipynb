{
  "nbformat": 4,
  "nbformat_minor": 0,
  "metadata": {
    "colab": {
      "provenance": []
    },
    "kernelspec": {
      "name": "python3",
      "display_name": "Python 3"
    },
    "language_info": {
      "name": "python"
    }
  },
  "cells": [
    {
      "cell_type": "markdown",
      "source": [
        "# Machine Problem No.2: Implementing a Logic-Based Model in Python"
      ],
      "metadata": {
        "id": "ptdpLuZdw64H"
      }
    },
    {
      "cell_type": "markdown",
      "source": [
        "# 1.Propositional Logic Operations"
      ],
      "metadata": {
        "id": "2B3W7inExEnv"
      }
    },
    {
      "cell_type": "code",
      "source": [
        "def and_operation(p, q):\n",
        "    return p and q #Logical conjunction (AND)\n",
        "\n",
        "def or_operation(p, q):\n",
        "    return p or q #Logical disjunction (OR)\n",
        "\n",
        "def not_operation(p):\n",
        "    return not p #Logical negation (NOT)\n",
        "\n",
        "def implies_operation(p, q):\n",
        "    return (not p) or q #Logical implication (IMPLIES)"
      ],
      "metadata": {
        "id": "LJXKPEy0w_S3"
      },
      "execution_count": 1,
      "outputs": []
    },
    {
      "cell_type": "markdown",
      "source": [
        "# 2. Evaluate Logical Statements"
      ],
      "metadata": {
        "id": "7isu0DMkxPpv"
      }
    },
    {
      "cell_type": "code",
      "source": [
        "def evaluate(statement, values):\n",
        "    # Replace logical operators with Python equivalents\n",
        "    statement = statement.replace('and', ' and ').replace('or', ' or ').replace('not', ' not ').replace('=>', ' or not ')\n",
        "    # Substitute variables with their truth values\n",
        "    for var, val in values.items():\n",
        "        statement = statement.replace(var, str(val))\n",
        "    return eval(statement)"
      ],
      "metadata": {
        "id": "xyp2ZI2hyDHR"
      },
      "execution_count": 7,
      "outputs": []
    },
    {
      "cell_type": "code",
      "source": [
        "# Evaluating logical statements\n",
        "print(evaluate('A and B', {'A': True, 'B': False})) # Output: False\n",
        "print(evaluate('A or B', {'A': True, 'B': False})) # Output: True\n",
        "print(evaluate('not A', {'A': True})) # Output: False\n",
        "print(evaluate('A => B', {'A': True, 'B': False})) # Output: False"
      ],
      "metadata": {
        "colab": {
          "base_uri": "https://localhost:8080/"
        },
        "id": "mdcJbtVPyGsm",
        "outputId": "7282101d-e6f5-4cd2-abe1-f89b2e7f2994"
      },
      "execution_count": 8,
      "outputs": [
        {
          "output_type": "stream",
          "name": "stdout",
          "text": [
            "False\n",
            "True\n",
            "False\n",
            "True\n"
          ]
        }
      ]
    },
    {
      "cell_type": "markdown",
      "source": [
        "# 3.Extend to Predicate Logic"
      ],
      "metadata": {
        "id": "mfBn15lwxWq_"
      }
    },
    {
      "cell_type": "code",
      "source": [
        "def evaluate(statement, values):\n",
        "    # Replace logical operators with Python equivalents\n",
        "    statement = statement.replace('and', ' and ').replace('or', ' or ').replace('not', ' not ').replace('=>', ' or not ')\n",
        "    # Substitute variables with their truth values\n",
        "    for var, val in values.items():\n",
        "        statement = statement.replace(var, str(val))\n",
        "    return eval(statement)\n",
        "\n",
        "\n",
        "# Evaluating logical statements\n",
        "print(evaluate('A and B', {'A': True, 'B': False})) # Output: False\n",
        "print(evaluate('A or B', {'A': True, 'B': False})) # Output: True\n",
        "print(evaluate('not A', {'A': True})) # Output: False\n",
        "print(evaluate('A => B', {'A': True, 'B': False})) # Output: False\n",
        "\n",
        "False\n",
        "True\n",
        "False\n",
        "True"
      ],
      "metadata": {
        "colab": {
          "base_uri": "https://localhost:8080/"
        },
        "id": "6LxDfJnhxaLU",
        "outputId": "a8205709-c6bd-432f-f516-239570a6520c"
      },
      "execution_count": 5,
      "outputs": [
        {
          "output_type": "stream",
          "name": "stdout",
          "text": [
            "False\n",
            "True\n",
            "False\n",
            "True\n"
          ]
        },
        {
          "output_type": "execute_result",
          "data": {
            "text/plain": [
              "True"
            ]
          },
          "metadata": {},
          "execution_count": 5
        }
      ]
    },
    {
      "cell_type": "markdown",
      "source": [
        "# 4.AI Agent Development"
      ],
      "metadata": {
        "id": "BXdpCkx1xe3w"
      }
    },
    {
      "cell_type": "code",
      "source": [
        "def forall(predicate, domain):\n",
        "#Evaluate the universal quantifier (FOR ALL).\n",
        "    return all(predicate(x) for x in domain)\n",
        "\n",
        "#Evaluate the existential quantifier (EXISTS).\n",
        "def exists(predicate, domain):\n",
        "    return any(predicate(x) for x in domain)\n",
        "\n",
        "\n",
        "# Define a predicate and a domain\n",
        "predicate = lambda x: x > 0\n",
        "domain = [1, 2, 3, -1, -2]\n",
        "\n",
        "# Evaluate quantifiers\n",
        "print(forall(predicate, domain))\n",
        "print(exists(predicate, domain))\n",
        "\n",
        "False\n",
        "True\n",
        "\n",
        "class SimpleAIAgent:\n",
        "    def __init__(self):\n",
        "        self.condition = True\n",
        "\n",
        "#Make a decision based on logical conditions.\n",
        "    def make_decision(self):\n",
        "        if and_operation(self.condition, True):\n",
        "            return 'Take action A'\n",
        "        else:\n",
        "            return 'Take action B'\n",
        "\n",
        "# Create an instance of the AI agent\n",
        "agent = SimpleAIAgent()\n",
        "print(agent.make_decision())\n",
        ""
      ],
      "metadata": {
        "colab": {
          "base_uri": "https://localhost:8080/"
        },
        "id": "DkcINoejxjQJ",
        "outputId": "5f564888-c2b0-40d8-a266-a49e5c972509"
      },
      "execution_count": 4,
      "outputs": [
        {
          "output_type": "stream",
          "name": "stdout",
          "text": [
            "False\n",
            "True\n",
            "Take action A\n"
          ]
        }
      ]
    }
  ]
}